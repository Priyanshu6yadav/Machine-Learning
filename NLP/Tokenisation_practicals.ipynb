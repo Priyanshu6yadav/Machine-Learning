{
 "cells": [
  {
   "cell_type": "code",
   "execution_count": 7,
   "id": "c4872c75",
   "metadata": {},
   "outputs": [],
   "source": [
    "corpus=\"\"\"Hello Welcome , to Priyanshu 's nlp git repo.\n",
    "Please do explore the entire repo! to learn machine learning\"\"\""
   ]
  },
  {
   "cell_type": "code",
   "execution_count": 8,
   "id": "6f1bd119",
   "metadata": {},
   "outputs": [
    {
     "name": "stdout",
     "output_type": "stream",
     "text": [
      "Hello Welcome , to Priyanshu 's nlp git repo.\n",
      "Please do explore the entire repo! to learn machine learning\n"
     ]
    }
   ],
   "source": [
    "print(corpus)"
   ]
  },
  {
   "cell_type": "code",
   "execution_count": null,
   "id": "b0ce1a45",
   "metadata": {},
   "outputs": [],
   "source": [
    "## Tokenization \n",
    "## Sentence-->paragraphs\n",
    "from nltk.tokenize import sent_tokenize\n",
    "nltk.download('punkt_tab')"
   ]
  },
  {
   "cell_type": "code",
   "execution_count": 12,
   "id": "6cfa00b0",
   "metadata": {},
   "outputs": [],
   "source": [
    "documents=sent_tokenize(corpus)"
   ]
  },
  {
   "cell_type": "code",
   "execution_count": 13,
   "id": "11d78c1b",
   "metadata": {},
   "outputs": [
    {
     "data": {
      "text/plain": [
       "list"
      ]
     },
     "execution_count": 13,
     "metadata": {},
     "output_type": "execute_result"
    }
   ],
   "source": [
    "type(documents)"
   ]
  },
  {
   "cell_type": "code",
   "execution_count": 14,
   "id": "30ae6d49",
   "metadata": {},
   "outputs": [
    {
     "name": "stdout",
     "output_type": "stream",
     "text": [
      "Hello Welcome , to Priyanshu 's nlp git repo.\n",
      "Please do explore the entire repo!\n",
      "to learn machine learning\n"
     ]
    }
   ],
   "source": [
    "from numpy import double\n",
    "\n",
    "\n",
    "for sentence in documents:\n",
    "    print(sentence)"
   ]
  },
  {
   "cell_type": "code",
   "execution_count": 16,
   "id": "8daf86f3",
   "metadata": {},
   "outputs": [],
   "source": [
    "## Tokenization \n",
    "## Paragraph-->words\n",
    "## sentence--->words\n",
    "from nltk.tokenize import word_tokenize"
   ]
  },
  {
   "cell_type": "code",
   "execution_count": 17,
   "id": "d88750d0",
   "metadata": {},
   "outputs": [
    {
     "data": {
      "text/plain": [
       "['Hello',\n",
       " 'Welcome',\n",
       " ',',\n",
       " 'to',\n",
       " 'Priyanshu',\n",
       " \"'s\",\n",
       " 'nlp',\n",
       " 'git',\n",
       " 'repo',\n",
       " '.',\n",
       " 'Please',\n",
       " 'do',\n",
       " 'explore',\n",
       " 'the',\n",
       " 'entire',\n",
       " 'repo',\n",
       " '!',\n",
       " 'to',\n",
       " 'learn',\n",
       " 'machine',\n",
       " 'learning']"
      ]
     },
     "execution_count": 17,
     "metadata": {},
     "output_type": "execute_result"
    }
   ],
   "source": [
    "word_tokenize(corpus)"
   ]
  },
  {
   "cell_type": "code",
   "execution_count": 18,
   "id": "3569f496",
   "metadata": {},
   "outputs": [
    {
     "name": "stdout",
     "output_type": "stream",
     "text": [
      "['Hello', 'Welcome', ',', 'to', 'Priyanshu', \"'s\", 'nlp', 'git', 'repo', '.']\n",
      "['Please', 'do', 'explore', 'the', 'entire', 'repo', '!']\n",
      "['to', 'learn', 'machine', 'learning']\n"
     ]
    }
   ],
   "source": [
    "for sentence in documents:\n",
    "    print(word_tokenize(sentence))"
   ]
  },
  {
   "cell_type": "code",
   "execution_count": 19,
   "id": "3b3a62c9",
   "metadata": {},
   "outputs": [],
   "source": [
    "from nltk.tokenize import wordpunct_tokenize"
   ]
  },
  {
   "cell_type": "code",
   "execution_count": 20,
   "id": "5eded61e",
   "metadata": {},
   "outputs": [
    {
     "data": {
      "text/plain": [
       "['Hello',\n",
       " 'Welcome',\n",
       " ',',\n",
       " 'to',\n",
       " 'Priyanshu',\n",
       " \"'\",\n",
       " 's',\n",
       " 'nlp',\n",
       " 'git',\n",
       " 'repo',\n",
       " '.',\n",
       " 'Please',\n",
       " 'do',\n",
       " 'explore',\n",
       " 'the',\n",
       " 'entire',\n",
       " 'repo',\n",
       " '!',\n",
       " 'to',\n",
       " 'learn',\n",
       " 'machine',\n",
       " 'learning']"
      ]
     },
     "execution_count": 20,
     "metadata": {},
     "output_type": "execute_result"
    }
   ],
   "source": [
    "\n",
    "wordpunct_tokenize(corpus)"
   ]
  },
  {
   "cell_type": "code",
   "execution_count": 21,
   "id": "ea55f12f",
   "metadata": {},
   "outputs": [],
   "source": [
    "\n",
    "from nltk.tokenize import TreebankWordTokenizer"
   ]
  },
  {
   "cell_type": "code",
   "execution_count": 23,
   "id": "e7f9d5e5",
   "metadata": {},
   "outputs": [
    {
     "data": {
      "text/plain": [
       "['Hello',\n",
       " 'Welcome',\n",
       " ',',\n",
       " 'to',\n",
       " 'Priyanshu',\n",
       " \"'s\",\n",
       " 'nlp',\n",
       " 'git',\n",
       " 'repo.',\n",
       " 'Please',\n",
       " 'do',\n",
       " 'explore',\n",
       " 'the',\n",
       " 'entire',\n",
       " 'repo',\n",
       " '!',\n",
       " 'to',\n",
       " 'learn',\n",
       " 'machine',\n",
       " 'learning']"
      ]
     },
     "execution_count": 23,
     "metadata": {},
     "output_type": "execute_result"
    }
   ],
   "source": [
    "tokenizer=TreebankWordTokenizer()\n",
    "tokenizer.tokenize(corpus)"
   ]
  }
 ],
 "metadata": {
  "kernelspec": {
   "display_name": "jupyter-kernel",
   "language": "python",
   "name": "python3"
  },
  "language_info": {
   "codemirror_mode": {
    "name": "ipython",
    "version": 3
   },
   "file_extension": ".py",
   "mimetype": "text/x-python",
   "name": "python",
   "nbconvert_exporter": "python",
   "pygments_lexer": "ipython3",
   "version": "3.14.0"
  }
 },
 "nbformat": 4,
 "nbformat_minor": 5
}
